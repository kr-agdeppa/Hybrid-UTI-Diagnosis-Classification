{
 "cells": [
  {
   "cell_type": "markdown",
   "metadata": {},
   "source": [
    "*Rence, mao ni ang example sa data encoding,  there are things you need to do, kailangan nimo e butang sa dataframe ang kaning mga data nga ge input sa user, such as age, gender, etc., after ana, kailangan pana nimo ipang encode since the model is trained using the encoded inputs, naa koy ge provide sa ubos na function na magamit nimo.*\n",
    "\n",
    "*but before nimo na gamiton na function specifically kaning <code>encode_features</code>, dapat tanan mga string values anang dataframe where ge store nimo ang data is naka capitalize, makita nimo na ang <code>user_input_df</code>, tanan strings naka capitalize, because ang kanang algorithm kay designed para lang sa capiralized na values such as MALE, LIGHT YELLOW and etc., so dapat e capitalize na nimo sya before nimo sya e butang sa dataframe. you can use this one <code>\"sample text\".upper()</code> >>> 'SAMPLE TEXT'*\n",
    "\n",
    "*also dapat, dataframe rajud ang pwede na e pass nimo sa <code>encode_features</code>, and make sure, isa rajud ka ROW and dataframe, if mag input nasad si user og another data nasad, dapat ma clear jud ang dataframe because again, ang algorithm kay designed for isa ra ka row.*\n",
    "\n",
    "- *Make sure lang jud na tanan inputs kay dili null by making input boxes nga necessary nga naay value, otherwise, mag error sa feature encoding*\n",
    "- *Check the data types na gina pang input sa user sa pH, Specific Gravity kay pwede sila mag input og string ata danha resulting to errors*\n",
    "- *Ang WBC og RBC butangi og guide kong unsa dapat e butang since range mana sya, dili na sya integer, pwede raka mag make og option list similar sa imong ge buhat sa other features, pwede raka mag base danhi:*\n",
    "\n",
    "\n",
    "<code>[\"0-0\", \"0-1\", \"0-2\", \"1-2\", \"0-3\", \"0-4\", \"1-3\", \"2-3\", \"1-4\", \"2-4\", \n",
    "                            \"1-5\", \"2-5\", \"3-4\", \"1-6\", \"3-5\", \"2-6\", \"3-6\", \"2-7\", \"4-5\", \"3-7\",\n",
    "                            \"4-6\", \"4-7\", \"5-6\", \"5-7\", \"4-8\", \"3-10\", \"5-8\", \"6-8\", \"4-10\",\"5-10\",\n",
    "                            \"7-8\", \"7-9\", \"7-10\", \"8-10\", \"8-11\", \"6-14\", \"8-12\", \"9-11\", \"9-12\",\n",
    "                            \"7-15\", \"10-12\", \"9-15\", \"11-13\", \"10-15\", \"11-14\", \"10-16\", \"11-15\",\n",
    "                            \"12-14\", \"12-15\", \"10-18\", \"13-15\", \"12-17\", \"14-16\", \"15-17\", \"15-18\",\n",
    "                            \"16-18\", \"15-20\", \"15-21\", \"17-20\", \"15-22\", \"18-20\", \"18-21\", \"18-22\",\n",
    "                            \"20-22\", \"15-28\", \"18-25\", \"20-25\", \"22-24\", \"23-25\", \"25-30\", \"25-32\",\n",
    "                            \"28-30\", \"30-32\", \"28-35\", \"30-35\", \"34-36\", \"36-38\", \"35-40\", \"38-40\",\n",
    "                            \"45-50\", \">50\", \"48-55\", \"50-55\", \"48-62\", \"55-58\", \"70-75\", \"79-85\",\n",
    "                            \"85-87\", \">100\", \"LOADED\", \"TNTC\"]</code>\n",
    "\n"
   ]
  },
  {
   "cell_type": "markdown",
   "metadata": {},
   "source": [
    "### Load the Data"
   ]
  },
  {
   "cell_type": "code",
   "execution_count": 18,
   "metadata": {},
   "outputs": [],
   "source": [
    "# import the libs\n",
    "import pandas as pd\n",
    "import numpy as np\n",
    "\n",
    "from joblib import load\n",
    "\n",
    "import warnings\n",
    "warnings.filterwarnings(\"ignore\", category=UserWarning, module=\"lightgbm\", message=\"Found boosting=goss\")"
   ]
  },
  {
   "cell_type": "markdown",
   "metadata": {},
   "source": [
    "### Store the users inputs into a dataframe"
   ]
  },
  {
   "cell_type": "code",
   "execution_count": 6,
   "metadata": {},
   "outputs": [
    {
     "data": {
      "text/html": [
       "<div>\n",
       "<style scoped>\n",
       "    .dataframe tbody tr th:only-of-type {\n",
       "        vertical-align: middle;\n",
       "    }\n",
       "\n",
       "    .dataframe tbody tr th {\n",
       "        vertical-align: top;\n",
       "    }\n",
       "\n",
       "    .dataframe thead th {\n",
       "        text-align: right;\n",
       "    }\n",
       "</style>\n",
       "<table border=\"1\" class=\"dataframe\">\n",
       "  <thead>\n",
       "    <tr style=\"text-align: right;\">\n",
       "      <th></th>\n",
       "      <th>Age</th>\n",
       "      <th>Gender</th>\n",
       "      <th>Color</th>\n",
       "      <th>Transparency</th>\n",
       "      <th>Glucose</th>\n",
       "      <th>Protein</th>\n",
       "      <th>pH</th>\n",
       "      <th>Specific_Gravity</th>\n",
       "      <th>WBC</th>\n",
       "      <th>RBC</th>\n",
       "      <th>Epithelial_Cells</th>\n",
       "      <th>Mucous_Threads</th>\n",
       "      <th>Amorphous_Urates</th>\n",
       "      <th>Bacteria</th>\n",
       "    </tr>\n",
       "  </thead>\n",
       "  <tbody>\n",
       "    <tr>\n",
       "      <th>0</th>\n",
       "      <td>76.0</td>\n",
       "      <td>MALE</td>\n",
       "      <td>LIGHT YELLOW</td>\n",
       "      <td>CLEAR</td>\n",
       "      <td>NEGATIVE</td>\n",
       "      <td>NEGATIVE</td>\n",
       "      <td>5.0</td>\n",
       "      <td>1.01</td>\n",
       "      <td>1-3</td>\n",
       "      <td>0-2</td>\n",
       "      <td>OCCASIONAL</td>\n",
       "      <td>RARE</td>\n",
       "      <td>NONE SEEN</td>\n",
       "      <td>OCCASIONAL</td>\n",
       "    </tr>\n",
       "  </tbody>\n",
       "</table>\n",
       "</div>"
      ],
      "text/plain": [
       "    Age Gender         Color Transparency   Glucose   Protein   pH  \\\n",
       "0  76.0   MALE  LIGHT YELLOW        CLEAR  NEGATIVE  NEGATIVE  5.0   \n",
       "\n",
       "   Specific_Gravity  WBC  RBC Epithelial_Cells Mucous_Threads  \\\n",
       "0              1.01  1-3  0-2       OCCASIONAL           RARE   \n",
       "\n",
       "  Amorphous_Urates    Bacteria  \n",
       "0        NONE SEEN  OCCASIONAL  "
      ]
     },
     "execution_count": 6,
     "metadata": {},
     "output_type": "execute_result"
    }
   ],
   "source": [
    "# example sa user input, exluding and diagnosis\n",
    "user_input_df = pd.DataFrame()\n",
    "\n",
    "# user input exammple\n",
    "user_input_df[\"Age\"] = [76.0]\n",
    "user_input_df[\"Gender\"] = [\"MALE\"]\n",
    "user_input_df[\"Color\"] = [\"LIGHT YELLOW\"]\n",
    "user_input_df[\"Transparency\"] = [\"CLEAR\"]\n",
    "user_input_df[\"Glucose\"] = [\"NEGATIVE\"]\n",
    "user_input_df[\"Protein\"] = [\"NEGATIVE\"]\n",
    "user_input_df[\"pH\"] = [5.0]\n",
    "user_input_df[\"Specific_Gravity\"] = [1.01]\n",
    "user_input_df[\"WBC\"] = [\"1-3\"]\n",
    "user_input_df[\"RBC\"] = [\"0-2\"]\n",
    "user_input_df[\"Epithelial_Cells\"] = [\"OCCASIONAL\"]\n",
    "\n",
    "user_input_df[\"Mucous_Threads\"] = [\"RARE\"]\n",
    "user_input_df[\"Amorphous_Urates\"] = [\"NONE SEEN\"]\n",
    "user_input_df[\"Bacteria\"] = [\"OCCASIONAL\"]\n",
    "\n",
    "user_input_df\n"
   ]
  },
  {
   "cell_type": "markdown",
   "metadata": {},
   "source": [
    "### Encoding the inputs of the user"
   ]
  },
  {
   "cell_type": "code",
   "execution_count": 7,
   "metadata": {},
   "outputs": [],
   "source": [
    "def custom_sort(value):\n",
    "    \"\"\"\n",
    "        Sorting string range values, and with greater than or less than, e.g, 80-90, <50, 100> or LOADED\n",
    "\n",
    "        Parameters\n",
    "        ------------\n",
    "        value : str\n",
    "            the string data that needs to be sorted\n",
    "\n",
    "        Returns\n",
    "        ------------\n",
    "        if ```value``` contains ,>,, return an integer without the sign.\n",
    "        elif ```value``` is equal to LOADED or TNTC (Too Numerous to Count), return the highest floating point number.\n",
    "        elif ```value``` is a range e.g 10-15, calculate the midpoint of the range by splitting the range into two number and return the midpoint\n",
    "    \"\"\"\n",
    "    \n",
    "    if value.__contains__(\">\"):\n",
    "        return int(value.replace(\">\", \"\"))\n",
    "    elif value.isalpha():\n",
    "        return int(np.finfo(np.float64).max)\n",
    "    else:\n",
    "        start, end = map(int, value.split(\"-\"))\n",
    "        return start + (end - start) / 2\n",
    "\n",
    "def encode_features(dataframe_, ordinal_features, nominal_features):\n",
    "    \"\"\"\n",
    "        Encodes the nominal and ordinal features of the dataset using map function for ordinal and One-Hot Encoding for nominal.\n",
    "\n",
    "        Parameters\n",
    "        ------------\n",
    "        dataframe_ : pandas.core.frame.DataFrame\n",
    "            the dataframe that contains the nominal and orginal features\n",
    "\n",
    "        ordinal_features : list, tuple, set\n",
    "            a list of strings that corresponds to the column name of the ordinal features\n",
    "\n",
    "        nominal_features : list, tuple, set\n",
    "            a list of strings that corresponds to the column name of the nominal features\n",
    "\n",
    "        Returns\n",
    "        ------------\n",
    "        dataframe_ : pandas.core.frame.DataFrame\n",
    "            returns the preprocessed dataframe with all the ordinal and nominal features encoded\n",
    "    \"\"\"\n",
    "    \n",
    "    \n",
    "    MAPPING_REFERENCE = {\"ABSENCE_REFERENCE\": {\"NONE SEEN\":0, \n",
    "                                               \"RARE\":1,\n",
    "                                               \"FEW\":2,\n",
    "                                               \"OCCASIONAL\":3,\n",
    "                                               \"MODERATE\":4,\n",
    "                                               \"LOADED\":5,\n",
    "                                               \"PLENTY\":6},\n",
    "                        \n",
    "                        \"Color\": {\"LIGHT YELLOW\":0,\n",
    "                                  \"STRAW\":1,\n",
    "                                  \"AMBER\":2,\n",
    "                                  \"BROWN\":3,\n",
    "                                  \"DARK YELLOW\":4,\n",
    "                                  \"YELLOW\":5,\n",
    "                                  \"REDDISH YELLOW\":6,\n",
    "                                  \"REDDISH\":7,\n",
    "                                  \"LIGHT RED\":8,\n",
    "                                  \"RED\":9},\n",
    "                         \n",
    "                        \"Transparency\": {\"CLEAR\":0,\n",
    "                                         \"SLIGHTLY HAZY\":1,\n",
    "                                         \"HAZY\":2,\n",
    "                                         \"CLOUDY\":3,\n",
    "                                         \"TURBID\":4},\n",
    "\n",
    "                        \"Protein_and_Glocuse\": {\"NEGATIVE\":0,\n",
    "                                                \"TRACE\":1,\n",
    "                                                \"1+\":2,\n",
    "                                                \"2+\":3,\n",
    "                                                \"3+\":4,\n",
    "                                                \"4+\":5}}\n",
    "    \n",
    "    SORTED_RANGED_VALUES = [\"0-0\", \"0-1\", \"0-2\", \"1-2\", \"0-3\", \"0-4\", \"1-3\", \"2-3\", \"1-4\", \"2-4\", \n",
    "                            \"1-5\", \"2-5\", \"3-4\", \"1-6\", \"3-5\", \"2-6\", \"3-6\", \"2-7\", \"4-5\", \"3-7\",\n",
    "                            \"4-6\", \"4-7\", \"5-6\", \"5-7\", \"4-8\", \"3-10\", \"5-8\", \"6-8\", \"4-10\",\"5-10\",\n",
    "                            \"7-8\", \"7-9\", \"7-10\", \"8-10\", \"8-11\", \"6-14\", \"8-12\", \"9-11\", \"9-12\",\n",
    "                            \"7-15\", \"10-12\", \"9-15\", \"11-13\", \"10-15\", \"11-14\", \"10-16\", \"11-15\",\n",
    "                            \"12-14\", \"12-15\", \"10-18\", \"13-15\", \"12-17\", \"14-16\", \"15-17\", \"15-18\",\n",
    "                            \"16-18\", \"15-20\", \"15-21\", \"17-20\", \"15-22\", \"18-20\", \"18-21\", \"18-22\",\n",
    "                            \"20-22\", \"15-28\", \"18-25\", \"20-25\", \"22-24\", \"23-25\", \"25-30\", \"25-32\",\n",
    "                            \"28-30\", \"30-32\", \"28-35\", \"30-35\", \"34-36\", \"36-38\", \"35-40\", \"38-40\",\n",
    "                            \"45-50\", \">50\", \"48-55\", \"50-55\", \"48-62\", \"55-58\", \"70-75\", \"79-85\",\n",
    "                            \"85-87\", \">100\", \"LOADED\", \"TNTC\"]\n",
    "    \n",
    "    for ordinal in ordinal_features:\n",
    "        if ordinal in [\"Epithelial_Cells\", \"Mucous_Threads\", \"Amorphous_Urates\", \"Bacteria\"]:\n",
    "            dataframe_[ordinal] = dataframe_[ordinal].map(MAPPING_REFERENCE[\"ABSENCE_REFERENCE\"])\n",
    "\n",
    "        elif ordinal in [\"Protein\", \"Glucose\"]:\n",
    "            dataframe_[ordinal] = dataframe_[ordinal].map(MAPPING_REFERENCE[\"Protein_and_Glocuse\"])\n",
    "\n",
    "        elif ordinal in [\"WBC\", \"RBC\"]:\n",
    "            num_of_splits = 13\n",
    "            splitted_array = np.hsplit(np.array(SORTED_RANGED_VALUES), num_of_splits)\n",
    "\n",
    "            list_of_bin = [bin_0, bin_1, bin_2, bin_3, bin_4, bin_5, bin_6, bin_7, bin_8, bin_9, bin_10, bin_11, bin_12] = splitted_array\n",
    "        \n",
    "            def mapping_function(value):\n",
    "                map_ = {tuple(bin_):i for i, bin_ in enumerate(list_of_bin)}\n",
    "\n",
    "                for key, reference in map_.items():\n",
    "                    if value in key:\n",
    "                        return reference\n",
    "\n",
    "            dataframe_[ordinal] = dataframe_[ordinal].map(mapping_function)\n",
    "        else:\n",
    "            dataframe_[ordinal] = dataframe_[ordinal].map(MAPPING_REFERENCE[ordinal])\n",
    "            \n",
    "    for nominal in nominal_features:\n",
    "\n",
    "        dataframe_[\"FEMALE\"] = [True if dataframe_[nominal].values[0] == \"FEMALE\" else False]\n",
    "        dataframe_ = dataframe_.drop(nominal, axis=1)\n",
    "        \n",
    "    return dataframe_\n"
   ]
  },
  {
   "cell_type": "code",
   "execution_count": 8,
   "metadata": {},
   "outputs": [],
   "source": [
    "encoded_user_input = encode_features(user_input_df, \n",
    "                                    ordinal_features=[\"Transparency\", \n",
    "                                        \"Epithelial_Cells\", \n",
    "                                        \"Mucous_Threads\", \n",
    "                                        \"Amorphous_Urates\", \n",
    "                                        \"Bacteria\",\n",
    "                                        \"Color\",\n",
    "                                        \"Protein\",\n",
    "                                        \"Glucose\",\n",
    "                                        \"WBC\",\n",
    "                                        \"RBC\"],\n",
    "\n",
    "                                    nominal_features=[\"Gender\"])"
   ]
  },
  {
   "cell_type": "code",
   "execution_count": 9,
   "metadata": {},
   "outputs": [
    {
     "data": {
      "text/html": [
       "<div>\n",
       "<style scoped>\n",
       "    .dataframe tbody tr th:only-of-type {\n",
       "        vertical-align: middle;\n",
       "    }\n",
       "\n",
       "    .dataframe tbody tr th {\n",
       "        vertical-align: top;\n",
       "    }\n",
       "\n",
       "    .dataframe thead th {\n",
       "        text-align: right;\n",
       "    }\n",
       "</style>\n",
       "<table border=\"1\" class=\"dataframe\">\n",
       "  <thead>\n",
       "    <tr style=\"text-align: right;\">\n",
       "      <th></th>\n",
       "      <th>Age</th>\n",
       "      <th>Color</th>\n",
       "      <th>Transparency</th>\n",
       "      <th>Glucose</th>\n",
       "      <th>Protein</th>\n",
       "      <th>pH</th>\n",
       "      <th>Specific_Gravity</th>\n",
       "      <th>WBC</th>\n",
       "      <th>RBC</th>\n",
       "      <th>Epithelial_Cells</th>\n",
       "      <th>Mucous_Threads</th>\n",
       "      <th>Amorphous_Urates</th>\n",
       "      <th>Bacteria</th>\n",
       "      <th>FEMALE</th>\n",
       "    </tr>\n",
       "  </thead>\n",
       "  <tbody>\n",
       "    <tr>\n",
       "      <th>0</th>\n",
       "      <td>76.0</td>\n",
       "      <td>0</td>\n",
       "      <td>0</td>\n",
       "      <td>0</td>\n",
       "      <td>0</td>\n",
       "      <td>5.0</td>\n",
       "      <td>1.01</td>\n",
       "      <td>0</td>\n",
       "      <td>0</td>\n",
       "      <td>3</td>\n",
       "      <td>1</td>\n",
       "      <td>0</td>\n",
       "      <td>3</td>\n",
       "      <td>False</td>\n",
       "    </tr>\n",
       "  </tbody>\n",
       "</table>\n",
       "</div>"
      ],
      "text/plain": [
       "    Age  Color  Transparency  Glucose  Protein   pH  Specific_Gravity  WBC  \\\n",
       "0  76.0      0             0        0        0  5.0              1.01    0   \n",
       "\n",
       "   RBC  Epithelial_Cells  Mucous_Threads  Amorphous_Urates  Bacteria  FEMALE  \n",
       "0    0                 3               1                 0         3   False  "
      ]
     },
     "execution_count": 9,
     "metadata": {},
     "output_type": "execute_result"
    }
   ],
   "source": [
    "encoded_user_input\n",
    "# user input is encoded and ready to feed to the model for diagnosis"
   ]
  },
  {
   "cell_type": "markdown",
   "metadata": {},
   "source": [
    "### Loading the trained model using joblib to make predictions"
   ]
  },
  {
   "cell_type": "code",
   "execution_count": 20,
   "metadata": {},
   "outputs": [],
   "source": [
    "LGBM_MODEL = load(\"model/best_model.joblib\")"
   ]
  },
  {
   "cell_type": "code",
   "execution_count": 22,
   "metadata": {},
   "outputs": [
    {
     "name": "stdout",
     "output_type": "stream",
     "text": [
      "[LightGBM] [Warning] Found boosting=goss. For backwards compatibility reasons, LightGBM interprets this as boosting=gbdt, data_sample_strategy=goss.To suppress this warning, set data_sample_strategy=goss instead.\n"
     ]
    }
   ],
   "source": [
    "pred = LGBM_MODEL.predict(encoded_user_input)[0]"
   ]
  },
  {
   "cell_type": "code",
   "execution_count": 23,
   "metadata": {},
   "outputs": [
    {
     "name": "stdout",
     "output_type": "stream",
     "text": [
      "Model Diagnosis: UTI NEGATIVE\n"
     ]
    }
   ],
   "source": [
    "\n",
    "print(f\"Model Diagnosis: {'UTI Positive' if pred else 'UTI NEGATIVE'}\")"
   ]
  }
 ],
 "metadata": {
  "kernelspec": {
   "display_name": "Python 3",
   "language": "python",
   "name": "python3"
  },
  "language_info": {
   "codemirror_mode": {
    "name": "ipython",
    "version": 3
   },
   "file_extension": ".py",
   "mimetype": "text/x-python",
   "name": "python",
   "nbconvert_exporter": "python",
   "pygments_lexer": "ipython3",
   "version": "3.10.6"
  }
 },
 "nbformat": 4,
 "nbformat_minor": 2
}
