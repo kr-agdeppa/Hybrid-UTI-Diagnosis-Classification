{
 "cells": [
  {
   "cell_type": "markdown",
   "metadata": {},
   "source": [
    "<h1 style='text-align: center;'>DATA RETRIEVAL</h1>\n",
    "\n",
    "\n",
    "<h3 style='text-align: center;'>DATA RETRIEVAL FLOW CHART</h3>\n",
    "\n",
    "\n",
    "<img src=\"../assets/FLOWCHART.png\">"
   ]
  },
  {
   "cell_type": "markdown",
   "metadata": {},
   "source": [
    "### Import the libraries\n"
   ]
  },
  {
   "cell_type": "code",
   "execution_count": 1,
   "metadata": {},
   "outputs": [],
   "source": [
    "import warnings\n",
    "warnings.filterwarnings(\"ignore\")\n",
    "\n",
    "import pandas as pd\n",
    "import numpy as np\n",
    "\n",
    "from collections import defaultdict\n",
    "import os\n",
    "from tqdm import tqdm\n",
    "\n",
    "from dotenv import dotenv_values"
   ]
  },
  {
   "cell_type": "markdown",
   "metadata": {},
   "source": [
    "### Data Extraction"
   ]
  },
  {
   "cell_type": "code",
   "execution_count": 2,
   "metadata": {},
   "outputs": [],
   "source": [
    "def data_retrieval(path):\n",
    "    \"\"\"\n",
    "        extracts the data in specific rows and columns in different excel files.\n",
    "    \n",
    "        Parameters\n",
    "        ------------\n",
    "        path: str\n",
    "            the path to the folder in which contains all the subfolders of excel files\n",
    "\n",
    "        Returns\n",
    "        ------------\n",
    "        None\n",
    "    \n",
    "    \"\"\"\n",
    "    # DECLARE GLOBAL VARIABLE\n",
    "    global df\n",
    "    \n",
    "    # ACCESS THE SHEET `Urinalysis` INSIDE THE EXCEL FILE\n",
    "    EXCEL_FILE = pd.read_excel(path, sheet_name = \"Urinalysis\")\n",
    "    \n",
    "    CONTAINER = defaultdict(lambda: np.nan)\n",
    "\n",
    "    # EXTRACT THE PATIENT'S AGE\n",
    "    PATIENT_AGE = EXCEL_FILE.iloc[7, 2]\n",
    "    \n",
    "    # TEST IF THE CELL CONTAINING THE AGE IS BLANK OR NULL\n",
    "    if not pd.isna(PATIENT_AGE):\n",
    "        if PATIENT_AGE.endswith(\"YEARS OLD\") or PATIENT_AGE.endswith(\"YEAR OLD\"):\n",
    "            CONTAINER[\"Age\"] = int(\"\".join(char for char in PATIENT_AGE if char.isnumeric()))\n",
    "        else:\n",
    "            CONTAINER[\"Age\"] = int(\"\".join(char for char in PATIENT_AGE if char.isnumeric()))/10\n",
    "    else:\n",
    "        return f\"{path} contains empty cell\"\n",
    "    \n",
    "    # EXTRACT THE PATIENT'S GENDER\n",
    "    PATIENT_GENDER = EXCEL_FILE.iloc[7, 4]\n",
    "    CONTAINER[\"Gender\"] = PATIENT_GENDER\n",
    "    \n",
    "    INDECIES_AND_FEATURE_NAMES = ((17, \"Color\"),\n",
    "                                  (18, \"Transparency\"),\n",
    "                                  (21, \"Glucose\"),\n",
    "                                  (22, \"Protein\"),\n",
    "                                  (23, \"pH\"),\n",
    "                                  (24, \"Specific Gravity\"),\n",
    "                                  (27, \"WBC\"),\n",
    "                                  (28, \"RBC\"),\n",
    "                                  (29, \"Epithelial Cells\"),\n",
    "                                  (30, \"Mucous Threads\"),\n",
    "                                  (31, \"Amorphous Urates\"),\n",
    "                                  (32, \"Bacteria\"))\n",
    "    \n",
    "    COLUMN_NUMBER = 5\n",
    "    \n",
    "    # EXTRACT THE REMAINING DATA INSIDE THE EXCEL FILE; SINCE THESE DATA HAVE THE SAME COLUMN POSITION, ONLY THE ROW IS MODIFIED ALONG THE ITERATION\n",
    "    for row, column_name in INDECIES_AND_FEATURE_NAMES:\n",
    "        CONTAINER[column_name] = EXCEL_FILE.loc[row][COLUMN_NUMBER]\n",
    "\n",
    "    # UPDATE THE GLOBAL VARIABLE\n",
    "    df = df._append(CONTAINER, ignore_index=True)"
   ]
  },
  {
   "cell_type": "code",
   "execution_count": 3,
   "metadata": {},
   "outputs": [
    {
     "name": "stderr",
     "output_type": "stream",
     "text": [
      "  0%|          | 0/7 [00:00<?, ?it/s]"
     ]
    },
    {
     "name": "stderr",
     "output_type": "stream",
     "text": [
      "                                             \r"
     ]
    }
   ],
   "source": [
    "# ACCESS THE FOLDER DIRECTORY\n",
    "DIRECTORY_PATH = dotenv_values(\".env.local\")[\"DATASET_PATH\"]\n",
    "DIRECTORY_FOLDERS = os.listdir(DIRECTORY_PATH)\n",
    "\n",
    "# INITIALIZE THE DATA FRAME\n",
    "df = pd.DataFrame(columns = [\"Age\", \"Gender\", \n",
    "                             \"Color\", \"Transparency\",\n",
    "                             \"Glucose\", \"Protein\", \"pH\", \"Specific Gravity\", \n",
    "                             \"WBC\", \"RBC\", \"Epithelial Cells\", \"Mucous Threads\", \"Amorphous Urates\", \"Bacteria\"])\n",
    "\n",
    "# ITERATE THROUGH EACH FOLDER IN THE DIRECTORY PATH AND EXTRACT THE PATH OF EACH EXCEL FILE INSIDE EACH FOLDER INSIDE THE DIRECTORY PATH\n",
    "for subfolder_name in tqdm(DIRECTORY_FOLDERS, position=0, leave=False):\n",
    "    SUBFOLDER_PATH = os.path.join(DIRECTORY_PATH, subfolder_name)\n",
    "    \n",
    "    EXCEL_FILES = os.listdir(SUBFOLDER_PATH)\n",
    "\n",
    "    for excel_name in EXCEL_FILES:\n",
    "        PATH_ = rf\"{SUBFOLDER_PATH}\\{excel_name}\"\n",
    "        data_retrieval(path=PATH_)"
   ]
  },
  {
   "cell_type": "code",
   "execution_count": 4,
   "metadata": {},
   "outputs": [],
   "source": [
    "FILE_NAME = \"../data/UTI DATASET-UNLABELED.xlsx\"\n",
    "df.to_excel(FILE_NAME, index=False)"
   ]
  }
 ],
 "metadata": {
  "kernelspec": {
   "display_name": "Python 3",
   "language": "python",
   "name": "python3"
  },
  "language_info": {
   "codemirror_mode": {
    "name": "ipython",
    "version": 3
   },
   "file_extension": ".py",
   "mimetype": "text/x-python",
   "name": "python",
   "nbconvert_exporter": "python",
   "pygments_lexer": "ipython3",
   "version": "3.10.6"
  },
  "orig_nbformat": 4
 },
 "nbformat": 4,
 "nbformat_minor": 2
}
